{
  "cells": [
    {
      "cell_type": "markdown",
      "metadata": {
        "id": "view-in-github",
        "colab_type": "text"
      },
      "source": [
        "<a href=\"https://colab.research.google.com/github/cbologa/single-cell/blob/main/chondrocyte.ipynb\" target=\"_parent\"><img src=\"https://colab.research.google.com/assets/colab-badge.svg\" alt=\"Open In Colab\"/></a>"
      ]
    },
    {
      "cell_type": "markdown",
      "metadata": {
        "id": "xSy7ug0VA5cG"
      },
      "source": [
        "Check RAM available (256 GB recommended)"
      ]
    },
    {
      "cell_type": "code",
      "execution_count": null,
      "metadata": {
        "id": "zohp-Ul2BBqd"
      },
      "outputs": [],
      "source": [
        "install.packages(\"memuse\")\n",
        "invisible(gc())\n",
        "memuse::Sys.meminfo()"
      ]
    },
    {
      "cell_type": "markdown",
      "metadata": {
        "id": "LixNBieoYzOW"
      },
      "source": [
        "Install required packages"
      ]
    },
    {
      "cell_type": "code",
      "execution_count": null,
      "metadata": {
        "id": "zYGbdXhoYohY"
      },
      "outputs": [],
      "source": [
        "install.packages(c(\"Matrix\", \n",
        "                   \"data.table\", \n",
        "                   \"caret\", \n",
        "                   \"doParallel\", \n",
        "                   \"xgboost\", \n",
        "                   \"Rmisc\", \n",
        "                   \"matrixStats\",\n",
        "                   \"openxlsx\"))"
      ]
    },
    {
      "cell_type": "markdown",
      "metadata": {
        "id": "lu_MmytAZ-Km"
      },
      "source": [
        "Load packages"
      ]
    },
    {
      "cell_type": "code",
      "execution_count": null,
      "metadata": {
        "id": "8rml6qpIaEGJ"
      },
      "outputs": [],
      "source": [
        "library(Matrix)\n",
        "library(data.table)\n",
        "library(caret)\n",
        "#library(doParallel)\n",
        "library(xgboost)\n",
        "library(Rmisc)\n",
        "library(matrixStats)\n",
        "library(openxlsx)"
      ]
    },
    {
      "cell_type": "markdown",
      "metadata": {
        "id": "uMljUqh1bTda"
      },
      "source": [
        "Read dataset files"
      ]
    },
    {
      "cell_type": "code",
      "execution_count": null,
      "metadata": {
        "id": "YMabl3_gbaP8"
      },
      "outputs": [],
      "source": [
        "DATASET <- \"E-CURD-112\"\n",
        "\n",
        "counts <- readMM(paste0(DATASET,\".aggregated_filtered_normalised_counts.mtx\"))\n",
        "rows <- fread(paste0(DATASET,\".aggregated_filtered_normalised_counts.mtx_rows\"), header = F)\n",
        "cols <- fread(paste0(DATASET,\".aggregated_filtered_normalised_counts.mtx_cols\"), header = F)\n",
        "labels <- fread(paste0(\"ExpDesign-\",DATASET,\".tsv\"))\n",
        "invisible(gc())"
      ]
    },
    {
      "cell_type": "markdown",
      "metadata": {
        "id": "oblc5GIVbxuC"
      },
      "source": [
        "Merge files"
      ]
    },
    {
      "cell_type": "code",
      "execution_count": null,
      "metadata": {
        "id": "fLCVMRz6by28"
      },
      "outputs": [],
      "source": [
        "rownames(counts) <- rows$V2\n",
        "colnames(counts) <- cols$V1"
      ]
    },
    {
      "cell_type": "markdown",
      "metadata": {
        "id": "waDn5tv5c7vr"
      },
      "source": [
        "Convert to data.table"
      ]
    },
    {
      "cell_type": "code",
      "execution_count": null,
      "metadata": {
        "id": "7Rxa8FNMc_e7"
      },
      "outputs": [],
      "source": [
        "dt <- as.data.table(as.matrix(t(counts)), keep.rownames = T)\n",
        "invisible(gc())"
      ]
    },
    {
      "cell_type": "markdown",
      "metadata": {
        "id": "1Qr4CwX3dI16"
      },
      "source": [
        "Add cell labels"
      ]
    },
    {
      "cell_type": "code",
      "execution_count": null,
      "metadata": {
        "id": "n2vqBhgIdL0x"
      },
      "outputs": [],
      "source": [
        "labels <- labels[,c(\"Assay\",\"Factor Value[inferred cell type - ontology labels]\")]\n",
        "names(labels) <- c(\"rn\",\"CellType\")\n",
        "labels[,Y:=ifelse(CellType==\"chondrocyte\", \"active\", \"inactive\")]\n",
        "labels[,Y:=factor(Y)]\n",
        "dt <- merge(labels, dt, by=\"rn\")"
      ]
    },
    {
      "cell_type": "markdown",
      "metadata": {
        "id": "yVdjjmk8daqu"
      },
      "source": [
        "Split dataset into labeled/unlabeled cells"
      ]
    },
    {
      "cell_type": "code",
      "execution_count": null,
      "metadata": {
        "id": "Q9S3yXfjeAV2"
      },
      "outputs": [],
      "source": [
        "dtl <- dt[CellType!=\"\"]\n",
        "dtu <- dt[CellType==\"\"]\n",
        "saveRDS(dtu, \"dtu.rds\")\n",
        "saveRDS(dtl, \"dtl.rds\")"
      ]
    },
    {
      "cell_type": "markdown",
      "metadata": {
        "id": "NpXa5x9EeSbm"
      },
      "source": [
        "Clear memory"
      ]
    },
    {
      "cell_type": "code",
      "execution_count": null,
      "metadata": {
        "id": "smgG19Y0eV4c"
      },
      "outputs": [],
      "source": [
        "rm(DATASET,counts,rows,cols,labels,dt,dtu); invisible(gc())"
      ]
    },
    {
      "cell_type": "markdown",
      "metadata": {
        "id": "lfz1wt0recZ5"
      },
      "source": [
        "Split labeled data into 5 groups"
      ]
    },
    {
      "cell_type": "code",
      "execution_count": null,
      "metadata": {
        "id": "n-MNm4MGedJi"
      },
      "outputs": [],
      "source": [
        "set.seed(1234)\n",
        "folds <- createFolds(dtl$Y,k=5)"
      ]
    },
    {
      "cell_type": "markdown",
      "metadata": {
        "id": "eVouNdYqe2Qx"
      },
      "source": [
        "Add empty column to store prediction results"
      ]
    },
    {
      "cell_type": "code",
      "execution_count": null,
      "metadata": {
        "id": "rJSKBi9Ne5bK"
      },
      "outputs": [],
      "source": [
        "dtl1 <- data.table(dtl[,.(rn,CellType,Y)],\n",
        "                   Y_PRED=character(nrow(dtl)),\n",
        "                   Y_PROB=numeric(nrow(dtl)))"
      ]
    },
    {
      "cell_type": "markdown",
      "metadata": {
        "id": "a2QGVPZFe_tc"
      },
      "source": [
        "Create empty list to store the 5 XGBoost models"
      ]
    },
    {
      "cell_type": "code",
      "execution_count": null,
      "metadata": {
        "id": "-1Y6YIZjfJB-"
      },
      "outputs": [],
      "source": [
        "model_list <- list()"
      ]
    },
    {
      "cell_type": "markdown",
      "metadata": {
        "id": "En2ZEzuWfY3C"
      },
      "source": [
        "For each group build a model using the rest of the data and make predictions"
      ]
    },
    {
      "cell_type": "code",
      "execution_count": null,
      "metadata": {
        "id": "dVbhB-qlfdEH"
      },
      "outputs": [],
      "source": [
        "for(i in 1:length(folds)){\n",
        "  print(i)\n",
        "  #i <- 1\n",
        "  fold <- folds[[i]]\n",
        "  print(\"folds\")\n",
        "  \n",
        "  test.set <- dtl[fold]\n",
        "  train.set <- dtl[!fold]\n",
        "  #print(\"train set\")\n",
        "  \n",
        "  train_Y <- train.set[,.(Y=Y)]\n",
        "  train_X <- train.set[,-c(1:3)]\n",
        "  rm(train.set); invisible(gc())\n",
        "  #print(\"trainX\")\n",
        "  # try to identify descriptors with low variance \n",
        "  train_nzv <- nearZeroVar(train_X, saveMetrics= TRUE)\n",
        "  #print(\"train_nzv\")\n",
        "  clean1 <- train_X[,-train_nzv$nzv,with=F]\n",
        "  rm(train_X);invisible(gc())\n",
        "  #print(\"clean1\")\n",
        "  train_dt <- data.table(train_Y,clean1)\n",
        "  rm(clean1);invisible(gc())\n",
        "  #print(\"train_dt\")\n",
        "  \n",
        "  # set the internal resampling method to simple 7-fold crossvalidation\n",
        "  fitControl <- trainControl(method=\"cv\", number=5, #allowParallel = T,\n",
        "                             classProbs = T, summaryFunction = twoClassSummary)\n",
        "  train_dt <- na.omit(train_dt)\n",
        "  invisible(gc())\n",
        "  #print(\"na_omit\")\n",
        "  rm(train_Y,train_nzv); invisible(gc())\n",
        "  # use parallel processing for faster execution (when hardware resources permit)\n",
        "  # not to be used when running on Google Colab\n",
        "  cl <- makeCluster(16)      # 16 cores for 256 GB RAM, 8 cores with 128 GB RAM\n",
        "  registerDoParallel(cl)     # register the number of cores for parallel execution\n",
        "  \n",
        "  print(system.time({\n",
        "    m <- train(Y ~ ., \n",
        "               data=train_dt, \n",
        "               method=\"xgbTree\", \n",
        "               trControl=fitControl,\n",
        "               metric=\"ROC\",\n",
        "               maximize=T,\n",
        "               preProc = c(\"center\", \"scale\"),\n",
        "               scale_pos_weight=train_dt[Y==\"inactive\",.N]/train_dt[Y==\"active\",.N]\n",
        "    )\n",
        "    dtl1[fold,Y_PRED:=predict(m,test.set)]\n",
        "    dtl1[fold,Y_PROB:=predict(m,test.set,type = \"prob\")[,1]]\n",
        "    model_list[[i]] <- m\n",
        "  }))  \n",
        "  # shut down the parallel cluster\n",
        "  stopCluster(cl)\n",
        "  rm(m,test.set,train_dt); invisible(gc())\n",
        "}\n"
      ]
    },
    {
      "cell_type": "markdown",
      "metadata": {
        "id": "fI43PZUsyYdX"
      },
      "source": [
        "Save the 5 models and predictions for labeled cells"
      ]
    },
    {
      "cell_type": "code",
      "execution_count": null,
      "metadata": {
        "id": "0LLtntVKyjV2"
      },
      "outputs": [],
      "source": [
        "saveRDS(model_list,\"models5.rds\")\n",
        "fwrite(dtl1[,.(rn,CellType,Y,Y_PRED,Y_PROB)],\"predicted.csv\")"
      ]
    },
    {
      "cell_type": "markdown",
      "metadata": {
        "id": "7snBYzr6ylFI"
      },
      "source": [
        "Display confusion table"
      ]
    },
    {
      "cell_type": "code",
      "execution_count": null,
      "metadata": {
        "id": "3iBHEokly-jt"
      },
      "outputs": [],
      "source": [
        "table(dtl1$Y,dtl1$Y_PRED)"
      ]
    },
    {
      "cell_type": "markdown",
      "metadata": {
        "id": "9k27CNxNzvay"
      },
      "source": [
        "Compute median probabilities by cell type to find which cells are most similar to chondrocytes"
      ]
    },
    {
      "cell_type": "code",
      "execution_count": null,
      "metadata": {
        "id": "8s1368GbzOkg"
      },
      "outputs": [],
      "source": [
        "dtl1[,pPROB:=-log10(Y_PROB)]\n",
        "dt_type <- dtl1[,.(median_pPROB=median(pPROB)),by=\"CellType\"]\n",
        "setorder(dt_type,median_pPROB)\n",
        "fwrite(dt_type,\"cell_type_similarity_to_chondrocytes.csv\")"
      ]
    },
    {
      "cell_type": "markdown",
      "metadata": {
        "id": "M5puD-caD92Q"
      },
      "source": [
        "Predict unlabeled cells"
      ]
    },
    {
      "cell_type": "code",
      "execution_count": null,
      "metadata": {
        "id": "6tNLauRlEBdm"
      },
      "outputs": [],
      "source": [
        "dtu <- readRDS(\"dtu.rds\")\n",
        "dtu1 <-dtu[,.(rn,CellType,Y)]\n",
        "for(i in 1:5){\n",
        "  print(i)\n",
        "  m <- model_list[[i]]\n",
        "  dtu1[,c(paste0(\"pred\",i)):=predict(m,dtu,type = \"prob\")[,1]]\n",
        "}\n",
        "dtu1[,Y_PROB:=rowMedians(as.matrix(.SD)),\n",
        "     .SDcols = c('pred1', 'pred2', 'pred3', 'pred4', 'pred5')]\n",
        "dtu1[,Y_PRED:=ifelse(Y_PROB>0.5,\"active\",\"inactive\")]\n",
        "fwrite(dtu1[,.(rn,CellType,Y,Y_PRED,Y_PROB)],\"unlabeled_predicted.csv\")"
      ]
    },
    {
      "cell_type": "markdown",
      "source": [
        "Feature importance"
      ],
      "metadata": {
        "id": "Q2dYBjpiAOl0"
      }
    },
    {
      "cell_type": "code",
      "source": [
        "dt_list <- list()\n",
        "model_list <- readRDS(\"models5.rds\")\n",
        "for (i in 1:5){\n",
        "  m <- model_list[[i]]\n",
        "  df <- varImp(m)$importance\n",
        "  df$gene <- row.names(df)\n",
        "  setDT(df)\n",
        "  df[,model:=paste0(\"m\",i)]\n",
        "  dt_list[[i]] <- df\n",
        "}\n",
        "\n",
        "dt_long <- rbindlist(dt_list)\n",
        "dt_wide <- dcast(dt_long, gene~model, value.var = 'Overall')\n",
        "dt_wide[,imp:= rowMeans(as.matrix(.SD),na.rm = T),\n",
        "         .SDcols = c('m1', 'm2', 'm3', 'm4', 'm5')]\n",
        "setorder(dt_wide,-imp)\n",
        "fwrite(dt_wide[,.(gene,imp)],\"varImp.csv\")"
      ],
      "metadata": {
        "id": "vag9ADtYAPMk"
      },
      "execution_count": null,
      "outputs": []
    }
  ],
  "metadata": {
    "colab": {
      "machine_shape": "hm",
      "provenance": [],
      "authorship_tag": "ABX9TyPPTHfgWTs6tijq0djKFfsi",
      "include_colab_link": true
    },
    "gpuClass": "standard",
    "kernelspec": {
      "display_name": "R",
      "name": "ir"
    },
    "language_info": {
      "name": "R"
    }
  },
  "nbformat": 4,
  "nbformat_minor": 0
}